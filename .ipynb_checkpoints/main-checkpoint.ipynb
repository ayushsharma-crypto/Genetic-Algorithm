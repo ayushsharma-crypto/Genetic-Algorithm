{
 "cells": [
  {
   "cell_type": "markdown",
   "id": "revised-viking",
   "metadata": {},
   "source": [
    "# Machine, Data & Learning\n",
    "\n",
    "## Project | Genetic Algorithm\n",
    "\n",
    "Team 30 | Tribrid\n",
    "-----------\n",
    "* Nitin Chandak (2019101024)\n",
    "* Ayush Sharma (2019101004)"
   ]
  },
  {
   "cell_type": "code",
   "execution_count": 146,
   "id": "occupied-intensity",
   "metadata": {},
   "outputs": [],
   "source": [
    "# Usefull Imports\n",
    "import client as server\n",
    "import numpy as np\n",
    "import matplotlib.pyplot as plt\n",
    "import random\n",
    "import copy\n",
    "import json\n",
    "%matplotlib inline"
   ]
  },
  {
   "cell_type": "markdown",
   "id": "precious-regard",
   "metadata": {},
   "source": [
    "### Initial Overfit Vector\n",
    "```\n",
    "[\n",
    "    0.0, \n",
    "    -1.45799022e-12, \n",
    "    -2.28980078e-13,  \n",
    "    4.62010753e-11, \n",
    "    -1.75214813e-10, \n",
    "    -1.83669770e-15,  \n",
    "    8.52944060e-16,  \n",
    "    2.29423303e-05, \n",
    "    -2.04721003e-06, \n",
    "    -1.59792834e-08,  \n",
    "    9.98214034e-10\n",
    "]\n",
    "```"
   ]
  },
  {
   "cell_type": "code",
   "execution_count": 151,
   "id": "perceived-interview",
   "metadata": {},
   "outputs": [],
   "source": [
    "# Usefull Global Constants & lambda functions\n",
    "TEAM_ID = 'colthAUIKUTfdh4qWrnHBhJzkyEm8kt4qIue1BKtyvLItfp8Po'\n",
    "INITIAL_OVERFIT_VECTOR = [\n",
    "    0.0, \n",
    "    -1.45799022e-12, \n",
    "    -2.28980078e-13,  \n",
    "    4.62010753e-11, \n",
    "    -1.75214813e-10, \n",
    "    -1.83669770e-15,  \n",
    "    8.52944060e-16,  \n",
    "    2.29423303e-05, \n",
    "    -2.04721003e-06, \n",
    "    -1.59792834e-08,  \n",
    "    9.98214034e-10\n",
    "]\n",
    "POPULATION_SIZE = 15\n",
    "TOTAL_GENERATION = 50\n",
    "MIN_GENE_VAL = -10\n",
    "MAX_GENE_VAL = 10\n",
    "MUTATION_PROBABILITY = 0.3\n",
    "MUTATION_FACTOR = lambda : random.uniform(0.9, 1.1)\n",
    "MATING_POOL_SIZE = lambda : random.randint(3,5)\n",
    "TRAIN_FACTOR_ARRAY = [1,0.6,-1]"
   ]
  },
  {
   "cell_type": "code",
   "execution_count": 152,
   "id": "important-nurse",
   "metadata": {},
   "outputs": [],
   "source": [
    "def mutate_initial_individual(individual):\n",
    "    '''\n",
    "    This function will mutate every gene in an individual which is\n",
    "    a vector of 11-D or array of 11 size with probability\n",
    "    MUTATION_PROBABILITY & leave other gene as it is.\n",
    "    '''\n",
    "    ret_individual = []\n",
    "    for igene in range(len(individual)):\n",
    "        ret_individual.append(individual[igene])\n",
    "        if random.randint(1, 10) <= (10*MUTATION_PROBABILITY):\n",
    "            final_gene = INITIAL_OVERFIT_VECTOR[igene]*MUTATION_FACTOR()\n",
    "            if final_gene<MIN_GENE_VAL:\n",
    "                ret_individual[igene] = MIN_GENE_VAL\n",
    "            elif final_gene>MAX_GENE_VAL:\n",
    "                ret_individual[igene] = MAX_GENE_VAL\n",
    "            else:\n",
    "                ret_individual[igene] = final_gene\n",
    "    return ret_individual\n",
    "            \n",
    "\n",
    "def create_initial_population():\n",
    "    '''\n",
    "    Initializes the population. Gene is 0 by default\n",
    "    but replaced with MUTATION_FACTOR*Initial_Overfit_Vector\n",
    "    with probability MUTATION_PROBABILITY.\n",
    "    Constraint on Gene is:\n",
    "    -10 <= Gene <= 10\n",
    "    '''\n",
    "    population = []\n",
    "    for i in range(POPULATION_SIZE):\n",
    "        individual = np.array(INITIAL_OVERFIT_VECTOR)\n",
    "        individual[individual != 0 ] = 0\n",
    "        individual = np.array(mutate_initial_individual(individual))\n",
    "        population.append(individual)\n",
    "    return population"
   ]
  },
  {
   "cell_type": "code",
   "execution_count": 153,
   "id": "forced-explosion",
   "metadata": {},
   "outputs": [],
   "source": [
    "def population_fitness(population):\n",
    "    curr_fitness=[]\n",
    "    for individual in population:\n",
    "        print(individual)\n",
    "        curr_fitness.append(individual_fitness(individual))\n",
    "    return curr_fitness\n",
    "\n",
    "\n",
    "def individual_fitness(individual):\n",
    "#     [train_error, validation_error]= server.get_errors(TEAM_ID,individual.tolist())\n",
    "    #@TODO: make a fitness logic\n",
    "    print(train_error, validation_error)\n",
    "    return  (1 / ((train_error + validation_error) + 2 * abs(train_error - validation_error)))\n",
    "#     return abs((train_error*(TRAIN_FACTOR_ARRAY[0])+validation_error))"
   ]
  },
  {
   "cell_type": "code",
   "execution_count": 154,
   "id": "focused-fight",
   "metadata": {},
   "outputs": [],
   "source": [
    "def sort_y_wrt_x(cx_list,cy_list):\n",
    "    czipped_list = zip(cx_list,cy_list)\n",
    "    csorted_pairs = sorted(czipped_list)\n",
    "    ctuples = zip(*csorted_pairs)\n",
    "    cx_list, cy_list = [ list(tuple) for tuple in  ctuples]\n",
    "    return cx_list,cy_list\n",
    "\n",
    "def create_mating_pool(curr_population,curr_fitness):\n",
    "    modified_fitness,modified_population = sort_y_wrt_x(curr_fitness.tolist(),curr_population.tolist())\n",
    "    #@TODO: Will leave best fitted vector later\n",
    "    mating_population = modified_population[:MATING_POOL_SIZE()]"
   ]
  },
  {
   "cell_type": "code",
   "execution_count": 103,
   "id": "improving-carter",
   "metadata": {
    "scrolled": true
   },
   "outputs": [
    {
     "name": "stdout",
     "output_type": "stream",
     "text": [
      "[[ 0.00000000e+00 -1.57834865e-12  0.00000000e+00  4.34243531e-11\n",
      "   0.00000000e+00  0.00000000e+00  0.00000000e+00  0.00000000e+00\n",
      "   0.00000000e+00  0.00000000e+00  0.00000000e+00]\n",
      " [ 0.00000000e+00  0.00000000e+00  0.00000000e+00  4.44666541e-11\n",
      "   0.00000000e+00  0.00000000e+00  0.00000000e+00  0.00000000e+00\n",
      "  -2.05996070e-06  0.00000000e+00  0.00000000e+00]\n",
      " [ 0.00000000e+00 -1.43513968e-12  0.00000000e+00  0.00000000e+00\n",
      "   0.00000000e+00  0.00000000e+00  0.00000000e+00  0.00000000e+00\n",
      "   0.00000000e+00  0.00000000e+00  0.00000000e+00]\n",
      " [ 0.00000000e+00  0.00000000e+00  0.00000000e+00  0.00000000e+00\n",
      "   0.00000000e+00 -1.91056550e-15  0.00000000e+00  0.00000000e+00\n",
      "   0.00000000e+00 -1.50174454e-08  9.87727581e-10]\n",
      " [ 0.00000000e+00  0.00000000e+00  0.00000000e+00  4.78966568e-11\n",
      "  -1.58306621e-10 -1.92518732e-15  0.00000000e+00  2.30801197e-05\n",
      "   0.00000000e+00  0.00000000e+00  0.00000000e+00]\n",
      " [ 0.00000000e+00  0.00000000e+00  0.00000000e+00  0.00000000e+00\n",
      "   0.00000000e+00  0.00000000e+00  0.00000000e+00  0.00000000e+00\n",
      "   0.00000000e+00  0.00000000e+00  9.09881047e-10]\n",
      " [ 0.00000000e+00 -1.39946493e-12  0.00000000e+00  5.01110833e-11\n",
      "   0.00000000e+00 -1.79331807e-15  0.00000000e+00  0.00000000e+00\n",
      "   0.00000000e+00  0.00000000e+00  0.00000000e+00]\n",
      " [ 0.00000000e+00  0.00000000e+00 -2.33005075e-13  0.00000000e+00\n",
      "   0.00000000e+00 -1.96627168e-15  9.10339899e-16  0.00000000e+00\n",
      "  -1.99811982e-06  0.00000000e+00  0.00000000e+00]\n",
      " [ 0.00000000e+00 -1.31813898e-12  0.00000000e+00  0.00000000e+00\n",
      "  -1.81627397e-10  0.00000000e+00  0.00000000e+00  0.00000000e+00\n",
      "   0.00000000e+00  0.00000000e+00  0.00000000e+00]\n",
      " [ 0.00000000e+00  0.00000000e+00 -2.23561203e-13  4.60330604e-11\n",
      "   0.00000000e+00  0.00000000e+00  0.00000000e+00  0.00000000e+00\n",
      "   0.00000000e+00  0.00000000e+00  0.00000000e+00]\n",
      " [ 0.00000000e+00 -1.49471304e-12 -2.32108924e-13  0.00000000e+00\n",
      "   0.00000000e+00 -1.92921248e-15  9.11082905e-16  0.00000000e+00\n",
      "  -2.14992752e-06  0.00000000e+00  9.54266587e-10]\n",
      " [ 0.00000000e+00  0.00000000e+00  0.00000000e+00  0.00000000e+00\n",
      "   0.00000000e+00  0.00000000e+00  7.82923955e-16  0.00000000e+00\n",
      "   0.00000000e+00  0.00000000e+00  0.00000000e+00]\n",
      " [ 0.00000000e+00  0.00000000e+00 -2.24516941e-13  4.99643023e-11\n",
      "  -1.85974517e-10 -1.82444776e-15  9.25325416e-16  0.00000000e+00\n",
      "  -2.12132766e-06  0.00000000e+00  0.00000000e+00]\n",
      " [ 0.00000000e+00 -1.38744698e-12  0.00000000e+00  0.00000000e+00\n",
      "   0.00000000e+00  0.00000000e+00  0.00000000e+00  2.10145371e-05\n",
      "   0.00000000e+00  0.00000000e+00  1.04036513e-09]\n",
      " [ 0.00000000e+00  0.00000000e+00  0.00000000e+00  0.00000000e+00\n",
      "   0.00000000e+00  0.00000000e+00  0.00000000e+00  2.19349693e-05\n",
      "   0.00000000e+00  0.00000000e+00  0.00000000e+00]]\n"
     ]
    }
   ],
   "source": [
    "curr_population = np.array(create_initial_population())\n",
    "curr_fitness =  np.random.randint(1,101,POPULATION_SIZE)\n",
    "# curr_fitness = np.array(population_fitness(curr_population))\n",
    "create_mating_pool(curr_fitness,curr_population)"
   ]
  }
 ],
 "metadata": {
  "kernelspec": {
   "display_name": "Python 3",
   "language": "python",
   "name": "python3"
  },
  "language_info": {
   "codemirror_mode": {
    "name": "ipython",
    "version": 3
   },
   "file_extension": ".py",
   "mimetype": "text/x-python",
   "name": "python",
   "nbconvert_exporter": "python",
   "pygments_lexer": "ipython3",
   "version": "3.6.9"
  }
 },
 "nbformat": 4,
 "nbformat_minor": 5
}
