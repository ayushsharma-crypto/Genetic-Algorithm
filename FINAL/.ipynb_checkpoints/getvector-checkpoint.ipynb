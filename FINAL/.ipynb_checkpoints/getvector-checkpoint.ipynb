{
 "cells": [
  {
   "cell_type": "code",
   "execution_count": 128,
   "id": "heated-measure",
   "metadata": {},
   "outputs": [],
   "source": [
    "import client as server\n",
    "import numpy as np\n",
    "import os\n",
    "import json\n",
    "import random"
   ]
  },
  {
   "cell_type": "code",
   "execution_count": 129,
   "id": "burning-reducing",
   "metadata": {},
   "outputs": [],
   "source": [
    "def read_file(filename):\n",
    "    '''\n",
    "    This function will read the filename\n",
    "    and return it's content.\n",
    "    '''\n",
    "    with open(filename,'r') as read_file:\n",
    "        data=json.load(read_file)\n",
    "    return data"
   ]
  },
  {
   "cell_type": "code",
   "execution_count": 130,
   "id": "infectious-shelf",
   "metadata": {},
   "outputs": [],
   "source": [
    "def append_file(filename,data):\n",
    "    '''\n",
    "    This function will write data in the filename\n",
    "    and return final content of it.\n",
    "    '''\n",
    "    with open(filename,'a') as write_file:\n",
    "        json.dump(data, write_file, indent = 4)"
   ]
  },
  {
   "cell_type": "code",
   "execution_count": 131,
   "id": "headed-complement",
   "metadata": {},
   "outputs": [],
   "source": [
    "trace_data = read_file('trace.json')\n",
    "trace = np.array(trace_data['Trace'])"
   ]
  },
  {
   "cell_type": "code",
   "execution_count": 132,
   "id": "vital-madagascar",
   "metadata": {},
   "outputs": [],
   "source": [
    "alld = []\n",
    "for g_index in range(len(trace)):\n",
    "    curr_parent_fitness = np.array(trace[g_index]['reproduction']['parent_fitness'])\n",
    "    indices = np.argsort(curr_parent_fitness[:,11])\n",
    "#     curr_parent_fitness = curr_parent_fitness.tolist()\n",
    "    i0,te0,ve0 = indices[0],curr_parent_fitness[indices[0]][11],curr_parent_fitness[indices[0]][12]\n",
    "    i1,te1,ve1 = indices[1],curr_parent_fitness[indices[1]][11],curr_parent_fitness[indices[1]][12]\n",
    "    i2,te2,ve2 = indices[2],curr_parent_fitness[indices[2]][11],curr_parent_fitness[indices[2]][12]\n",
    "    if ((len(str(int(te0))) == 12 ) or (len(str((te1))) == 12 ) or (len(str((te1))) == 12 )):\n",
    "        data = {\n",
    "            \"gen\": g_index,\n",
    "            \"first\": [int(i0),te0,ve0],\n",
    "            \"second\": [int(i1),te1,ve1],\n",
    "            \"third\": [int(i2),te2,ve2],\n",
    "        }\n",
    "        alld.append(data)\n",
    "append_file('order12',alld)"
   ]
  },
  {
   "cell_type": "code",
   "execution_count": 134,
   "id": "collective-taiwan",
   "metadata": {},
   "outputs": [],
   "source": [
    "temp2_data = read_file('order12')\n",
    "lt = []\n",
    "for i in range(len(temp2_data)):\n",
    "    curr_gen = temp2_data[i]['gen']\n",
    "    curr_first = temp2_data[i]['first']\n",
    "    st = np.array([curr_gen, curr_first[0],curr_first[1],curr_first[2]])\n",
    "    lt.append(st)\n",
    "lt = np.array(lt)\n",
    "lt = lt[np.argsort(lt[:,2])]\n",
    "append_file(\"order12-1\",lt.tolist())"
   ]
  },
  {
   "cell_type": "code",
   "execution_count": null,
   "id": "complex-bloom",
   "metadata": {},
   "outputs": [],
   "source": []
  }
 ],
 "metadata": {
  "kernelspec": {
   "display_name": "Python 3",
   "language": "python",
   "name": "python3"
  },
  "language_info": {
   "codemirror_mode": {
    "name": "ipython",
    "version": 3
   },
   "file_extension": ".py",
   "mimetype": "text/x-python",
   "name": "python",
   "nbconvert_exporter": "python",
   "pygments_lexer": "ipython3",
   "version": "3.6.9"
  }
 },
 "nbformat": 4,
 "nbformat_minor": 5
}
