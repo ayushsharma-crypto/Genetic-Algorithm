{
 "cells": [
  {
   "cell_type": "code",
   "execution_count": 105,
   "id": "revised-wednesday",
   "metadata": {},
   "outputs": [],
   "source": [
    "import client as server\n",
    "import numpy as np\n",
    "import os\n",
    "import json\n",
    "import random"
   ]
  },
  {
   "cell_type": "code",
   "execution_count": 106,
   "id": "needed-showcase",
   "metadata": {},
   "outputs": [],
   "source": [
    "TEAM_ID = 'colthAUIKUTfdh4qWrnHBhJzkyEm8kt4qIue1BKtyvLItfp8Po'\n",
    "DEFAULT_INITIAL_OVERFIT_VECTOR = [\n",
    "    0.0, \n",
    "    -1.45799022e-12, \n",
    "    -2.28980078e-13,  \n",
    "    4.62010753e-11, \n",
    "    -1.75214813e-10, \n",
    "    -1.83669770e-15,  \n",
    "    8.52944060e-16,  \n",
    "    2.29423303e-05, \n",
    "    -2.04721003e-06, \n",
    "    -1.59792834e-08,  \n",
    "    9.98214034e-10\n",
    "]\n",
    "MY_INITIAL_VECTOR = [\n",
    "    0.0, \n",
    "    0.0, \n",
    "    0.0, \n",
    "    0.0, \n",
    "    0.0, \n",
    "    0.0, \n",
    "    0.0, \n",
    "    0.0, \n",
    "    0.0, \n",
    "    0.0, \n",
    "    0.0\n",
    "]\n",
    "MAX_GENE_VAL = 10\n",
    "MIN_GENE_VAL = -10\n",
    "POPULATION_SIZE = 10\n",
    "GENERATION_LOOP = 10\n",
    "TRACE = \"trace.txt\"\n",
    "MUTATION_PROBABILITY = 0.6"
   ]
  },
  {
   "cell_type": "code",
   "execution_count": 107,
   "id": "satisfied-fantasy",
   "metadata": {},
   "outputs": [],
   "source": [
    "def is_existing_file(fileName):\n",
    "    '''\n",
    "    This funtion returns True if \n",
    "    filename exist  otherwise False\n",
    "    '''\n",
    "    return os.path.exists(fileName)"
   ]
  },
  {
   "cell_type": "code",
   "execution_count": 108,
   "id": "informed-analysis",
   "metadata": {},
   "outputs": [],
   "source": [
    "def is_valid_file(filename):\n",
    "    '''\n",
    "    This function checks existence of file\n",
    "    filename and if exist then checks if it\n",
    "    empty or not.\n",
    "    '''\n",
    "    if is_output_file(filename):\n",
    "        return (os.stat(filename).st_size != 0)\n",
    "    else:\n",
    "        return False"
   ]
  },
  {
   "cell_type": "code",
   "execution_count": 109,
   "id": "confirmed-pilot",
   "metadata": {},
   "outputs": [],
   "source": [
    "def read_file(filename):\n",
    "    '''\n",
    "    This function will read the filename\n",
    "    and return it's content.\n",
    "    '''\n",
    "    with open(filename,'r') as read_file:\n",
    "        data=json.load(read_file)\n",
    "    return data"
   ]
  },
  {
   "cell_type": "code",
   "execution_count": 110,
   "id": "blessed-civilization",
   "metadata": {},
   "outputs": [],
   "source": [
    "def write_file(filename,data):\n",
    "    '''\n",
    "    This function will write data in the filename\n",
    "    and return final content of it.\n",
    "    '''\n",
    "    with open(filename,'w') as write_file:\n",
    "        json.dump(data, write_file, indent = 4)\n",
    "    return read_file(filename)"
   ]
  },
  {
   "cell_type": "code",
   "execution_count": 111,
   "id": "tribal-medicare",
   "metadata": {},
   "outputs": [],
   "source": [
    "def create_start_population():\n",
    "    '''\n",
    "    This function will create a default\n",
    "    start file for dumping our 10 best vector\n",
    "    before any iteration of algorithm when \n",
    "    called if START doesnot exist. Returns\n",
    "    the content in same file after completion\n",
    "    '''\n",
    "    start = []\n",
    "    for i in range(POPULATION_SIZE):\n",
    "        curr_vec = DEFAULT_INITIAL_OVERFIT_VECTOR.copy()\n",
    "        for j in range(len(curr_vec)):\n",
    "            if random.uniform(1,10)<=(10*MUTATION_PROBABILITY):\n",
    "                if curr_vec[j]==0:\n",
    "                    curr_vec[j] = random.uniform(-0.05,0.05)\n",
    "                else:\n",
    "                    if j <= 4:\n",
    "                        fac = 1 + random.uniform(-0.05, 0.05)\n",
    "                    else:\n",
    "                        fac = random.uniform(0, 1)\n",
    "                    new_gene = fac*curr_vec[j]\n",
    "                    if abs(new_gene)<10:\n",
    "                        curr_vec[j]=new_gene\n",
    "        start.append(curr_vec)\n",
    "    return start"
   ]
  },
  {
   "cell_type": "code",
   "execution_count": 112,
   "id": "wireless-inspiration",
   "metadata": {},
   "outputs": [],
   "source": [
    "def get_both_err(population):\n",
    "    '''\n",
    "    This function utilises the API \n",
    "    call provided to us for getting the\n",
    "    errors on the vectors within the population.\n",
    "    \n",
    "    Parameter\n",
    "    ---------\n",
    "    population: list of vector of 11-D\n",
    "    \n",
    "    Return\n",
    "    ------\n",
    "    It returns two list train_err & validation_err\n",
    "    which are errors for the given poplation's vectors.\n",
    "    '''\n",
    "    train_err = [ random.randint(1,300) for i in range(len(population))]\n",
    "    validation_err = [ random.randint(1,300) for i in range(len(population))]\n",
    "    \n",
    "#     train_err = []\n",
    "#     validation_err = []\n",
    "#     for individual in population:\n",
    "#         [te, ve]= server.get_errors(TEAM_ID,individual)\n",
    "#         train_err.append(te)\n",
    "#         validation_err.append(ve)\n",
    "    return train_err, validation_err"
   ]
  },
  {
   "cell_type": "code",
   "execution_count": 113,
   "id": "timely-bonus",
   "metadata": {},
   "outputs": [],
   "source": [
    "def get_fitness(te, ve):\n",
    "    '''\n",
    "    This function calculates the fitness\n",
    "    for given list of errors. Higher the\n",
    "    fitness more fit/perfect the vector.\n",
    "    Returns the list of fitness for \n",
    "    corresponding errors.\n",
    "    '''\n",
    "    fitness = []\n",
    "    for i in range(len(te)):\n",
    "        sum_err = te[i] + ve[i]\n",
    "        abs_diff_err = abs(te[i] - ve[i])\n",
    "        fit = ( sum_err) + 2*( abs_diff_err)\n",
    "        fit = 1/fit\n",
    "        fitness.append(fit)\n",
    "    return fitness"
   ]
  },
  {
   "cell_type": "code",
   "execution_count": 114,
   "id": "personal-granny",
   "metadata": {},
   "outputs": [],
   "source": [
    "def selection_percentage(fitness):\n",
    "    '''\n",
    "    This function will return the list for percentage\n",
    "    of chance of being selected for cross-over.\n",
    "    '''\n",
    "    fit_ness = np.array(fitness)\n",
    "    total = sum(fit_ness)\n",
    "    perc = list(map(lambda fit_val: ((100*fit_val)/total), fitness))\n",
    "    return perc"
   ]
  },
  {
   "cell_type": "code",
   "execution_count": 115,
   "id": "varying-frontier",
   "metadata": {},
   "outputs": [],
   "source": [
    "def create_fitness(pop):\n",
    "    '''\n",
    "    It takes population which is an array\n",
    "    of POPULATION_SIZE 11-D vectors. And\n",
    "    return POPULATION_SIZE 15-D vectors.\n",
    "    In which last 5 columns will be te, ve,\n",
    "    fitness and selection percentage.\n",
    "    '''\n",
    "    te, ve = get_both_err(pop)\n",
    "    fitness = get_fitness(te, ve)\n",
    "    percentage = selection_percentage(fitness)\n",
    "    pop_fitness = np.column_stack((pop,te, ve, fitness, percentage))\n",
    "    return pop_fitness"
   ]
  },
  {
   "cell_type": "code",
   "execution_count": 116,
   "id": "sustained-aging",
   "metadata": {},
   "outputs": [],
   "source": [
    "def GA():\n",
    "    '''\n",
    "    Main function to be called to run\n",
    "    the implemented genetic algorithm.\n",
    "    '''\n",
    "    generation_loop = 0\n",
    "#     if not is_valid_file(TRACE):\n",
    "    pop = create_start_population()\n",
    "    pop_fit = create_fitness(pop)\n",
    "    print(pop_fit)"
   ]
  },
  {
   "cell_type": "code",
   "execution_count": 117,
   "id": "radio-tradition",
   "metadata": {},
   "outputs": [
    {
     "name": "stdout",
     "output_type": "stream",
     "text": [
      "[[-4.16320663e-02 -1.42065510e-12 -2.34171038e-13  4.57211392e-11\n",
      "  -1.75214813e-10 -1.83669770e-15  6.04566750e-16  2.27198645e-05\n",
      "  -2.04721003e-06 -1.59792834e-08  9.98214034e-10  1.64000000e+02\n",
      "   1.73000000e+02  2.81690141e-03  9.78096019e+00]\n",
      " [ 0.00000000e+00 -1.51814500e-12 -2.34721865e-13  4.47848798e-11\n",
      "  -1.75214813e-10 -1.83669770e-15  8.52944060e-16  8.53813562e-06\n",
      "  -1.44450310e-07 -1.59792834e-08  9.98214034e-10  9.00000000e+01\n",
      "   6.30000000e+01  4.83091787e-03  1.67741105e+01]\n",
      " [ 0.00000000e+00 -1.45799022e-12 -2.28980078e-13  4.70188934e-11\n",
      "  -1.75214813e-10 -1.83669770e-15  8.52944060e-16  2.20549114e-05\n",
      "  -1.16548896e-06 -4.56058599e-09  9.98214034e-10  2.39000000e+02\n",
      "   2.13000000e+02  1.98412698e-03  6.88936680e+00]\n",
      " [ 0.00000000e+00 -1.45799022e-12 -2.27735278e-13  4.41302931e-11\n",
      "  -1.75214813e-10 -6.15591041e-16  4.39554905e-16  2.29423303e-05\n",
      "  -2.04721003e-06 -1.59792834e-08  9.98214034e-10  2.06000000e+02\n",
      "   2.43000000e+02  1.91204589e-03  6.63908388e+00]\n",
      " [ 0.00000000e+00 -1.45799022e-12 -2.21364217e-13  4.62010753e-11\n",
      "  -1.83496890e-10 -1.62492650e-15  1.18842562e-16  1.67203814e-05\n",
      "  -1.71642196e-06 -6.28935014e-09  5.93477626e-10  2.73000000e+02\n",
      "   1.15000000e+02  1.42045455e-03  4.93216032e+00]\n",
      " [-4.20796831e-02 -1.42317734e-12 -2.28980078e-13  4.64860794e-11\n",
      "  -1.75214813e-10 -1.83669770e-15  7.51639112e-16  2.09946072e-05\n",
      "  -2.04721003e-06 -1.59792834e-08  5.67086036e-10  1.01000000e+02\n",
      "   2.60000000e+02  1.47275405e-03  5.11375680e+00]\n",
      " [ 0.00000000e+00 -1.45799022e-12 -2.28980078e-13  4.79962722e-11\n",
      "  -1.68831367e-10 -1.34659868e-15  4.67855618e-16  3.28551103e-06\n",
      "  -3.05916893e-07 -1.13077941e-08  9.98214034e-10  2.90000000e+01\n",
      "   4.30000000e+01  1.00000000e-02  3.47224087e+01]\n",
      " [-4.57177014e-02 -1.45799022e-12 -2.28980078e-13  4.70272797e-11\n",
      "  -1.75214813e-10 -1.83669770e-15  8.52944060e-16  2.57839332e-06\n",
      "  -2.04721003e-06 -5.80390849e-09  3.56845302e-11  2.56000000e+02\n",
      "   3.80000000e+01  1.36986301e-03  4.75649434e+00]\n",
      " [-4.95626201e-02 -1.44374584e-12 -2.20655597e-13  4.62010753e-11\n",
      "  -1.75214813e-10 -3.36492294e-16  6.47335962e-16  6.25723666e-06\n",
      "  -2.04721003e-06 -1.57874383e-08  9.98214034e-10  1.30000000e+01\n",
      "   2.39000000e+02  1.42045455e-03  4.93216032e+00]\n",
      " [ 0.00000000e+00 -1.45799022e-12 -2.19569678e-13  4.62010753e-11\n",
      "  -1.76349454e-10 -1.83669770e-15  8.52944060e-16  1.24639135e-05\n",
      "  -2.04721003e-06 -1.59792834e-08  5.37528965e-10  2.82000000e+02\n",
      "   2.10000000e+02  1.57232704e-03  5.45949822e+00]]\n"
     ]
    }
   ],
   "source": [
    "GA()"
   ]
  },
  {
   "cell_type": "code",
   "execution_count": null,
   "id": "generous-album",
   "metadata": {},
   "outputs": [],
   "source": []
  }
 ],
 "metadata": {
  "kernelspec": {
   "display_name": "Python 3",
   "language": "python",
   "name": "python3"
  },
  "language_info": {
   "codemirror_mode": {
    "name": "ipython",
    "version": 3
   },
   "file_extension": ".py",
   "mimetype": "text/x-python",
   "name": "python",
   "nbconvert_exporter": "python",
   "pygments_lexer": "ipython3",
   "version": "3.6.9"
  }
 },
 "nbformat": 4,
 "nbformat_minor": 5
}
