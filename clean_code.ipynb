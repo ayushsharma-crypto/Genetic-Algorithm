{
 "cells": [
  {
   "cell_type": "markdown",
   "id": "wrong-fitting",
   "metadata": {},
   "source": [
    "# Machine, Data & Learning\n",
    "\n",
    "## Project | Genetic Algorithm\n",
    "\n",
    "Team 30 | Tribrid\n",
    "-----------\n",
    "* Nitin Chandak (2019101024)\n",
    "* Ayush Sharma (2019101004)"
   ]
  },
  {
   "cell_type": "code",
   "execution_count": 36,
   "id": "compatible-claim",
   "metadata": {},
   "outputs": [],
   "source": [
    "# Usefull Imports\n",
    "import client as server\n",
    "import numpy as np\n",
    "import random\n",
    "import json\n",
    "import os"
   ]
  },
  {
   "cell_type": "markdown",
   "id": "pursuant-prefix",
   "metadata": {},
   "source": [
    "### Default Initial Overfit Vector\n",
    "```\n",
    "[\n",
    "    0.0, \n",
    "    -1.45799022e-12, \n",
    "    -2.28980078e-13,  \n",
    "    4.62010753e-11, \n",
    "    -1.75214813e-10, \n",
    "    -1.83669770e-15,  \n",
    "    8.52944060e-16,  \n",
    "    2.29423303e-05, \n",
    "    -2.04721003e-06, \n",
    "    -1.59792834e-08,  \n",
    "    9.98214034e-10\n",
    "]\n",
    "```"
   ]
  },
  {
   "cell_type": "code",
   "execution_count": 37,
   "id": "vanilla-count",
   "metadata": {},
   "outputs": [],
   "source": [
    "# Usefull Global Constants & lambda functions\n",
    "\n",
    "TEAM_ID = 'colthAUIKUTfdh4qWrnHBhJzkyEm8kt4qIue1BKtyvLItfp8Po'\n",
    "\n",
    "DEFAULT_INITIAL_OVERFIT_VECTOR = [\n",
    "    0.0, \n",
    "    -1.45799022e-12, \n",
    "    -2.28980078e-13,  \n",
    "    4.62010753e-11, \n",
    "    -1.75214813e-10, \n",
    "    -1.83669770e-15,  \n",
    "    8.52944060e-16,  \n",
    "    2.29423303e-05, \n",
    "    -2.04721003e-06, \n",
    "    -1.59792834e-08,  \n",
    "    9.98214034e-10\n",
    "]\n",
    "\n",
    "POPULATION_SIZE = 10 # intentionaly chose this as we have to store 10 best vectors\n",
    "GENERATION_LOOP = 0\n",
    "MIN_GENE_VAL = -10\n",
    "MAX_GENE_VAL = 10\n",
    "MUTATION_PROBABILITY = 0.3\n",
    "MUTATION_FACTOR = lambda : random.uniform(0.9, 1.1)\n",
    "MATING_POOL_SIZE = 6\n",
    "\n",
    "OUTPUT_FILE = 'output.txt'"
   ]
  },
  {
   "cell_type": "code",
   "execution_count": 38,
   "id": "governmental-scratch",
   "metadata": {},
   "outputs": [],
   "source": [
    "def is_output_file(fileName):\n",
    "    '''\n",
    "    This funtion returns False if \n",
    "    filename exist  otherwise True\n",
    "    '''\n",
    "    return os.path.exists(fileName)"
   ]
  },
  {
   "cell_type": "code",
   "execution_count": 39,
   "id": "respected-large",
   "metadata": {},
   "outputs": [],
   "source": [
    "def is_valid_file(filename):\n",
    "    '''\n",
    "    This function checks existence of file\n",
    "    filename and if exist then checks if it\n",
    "    empty or not.\n",
    "    '''\n",
    "    if is_output_file(filename):\n",
    "        return (os.stat(filename).st_size != 0)\n",
    "    else:\n",
    "        return False"
   ]
  },
  {
   "cell_type": "code",
   "execution_count": 40,
   "id": "grave-diabetes",
   "metadata": {},
   "outputs": [],
   "source": [
    "def create_default_output_file():\n",
    "    '''\n",
    "    This function will create a default\n",
    "    output file for dumping our 10 best vector\n",
    "    before any iteration of algorithm when called.\n",
    "    '''\n",
    "    answer = []\n",
    "    for i in range(10):\n",
    "        answer.append(DEFAULT_INITIAL_OVERFIT_VECTOR)\n",
    "    with open(OUTPUT_FILE,'w') as write_file:\n",
    "        json.dump(answer, write_file)"
   ]
  },
  {
   "cell_type": "code",
   "execution_count": 41,
   "id": "apart-genre",
   "metadata": {},
   "outputs": [],
   "source": [
    "def read_output_file():\n",
    "    '''\n",
    "    This function will read the OUTPUT_FILE\n",
    "    and return the answer array there which \n",
    "    contains 10 best vector obtained so far.\n",
    "    '''\n",
    "    with open(OUTPUT_FILE,'r') as write_file:\n",
    "        answer=json.load(write_file)\n",
    "    return answer"
   ]
  },
  {
   "cell_type": "code",
   "execution_count": 42,
   "id": "banned-asset",
   "metadata": {},
   "outputs": [],
   "source": [
    "def dump_best_vectors(answer: list):\n",
    "    '''\n",
    "    This function will dump the list of\n",
    "    10 vectors into the OUTPUT_FILE file.\n",
    "    And return the updated data.\n",
    "    '''\n",
    "    with open(OUTPUT_FILE,'w') as write_file:\n",
    "        json.dump(answer, write_file)\n",
    "    return read_output_file()"
   ]
  },
  {
   "cell_type": "code",
   "execution_count": 43,
   "id": "fixed-guinea",
   "metadata": {},
   "outputs": [],
   "source": [
    "#@TODO: Within While loop:\n",
    "#       Generate new Population\n",
    "#       Get errors, fitness & curr_weight_distribution\n",
    "#       Update 10 best vector array i.e. make a separate list for it.\n",
    "#       Keep track of generations of the vecotrs for generation folder.\n",
    "#       Dump 10 best vectors into output.txt file."
   ]
  },
  {
   "cell_type": "code",
   "execution_count": 44,
   "id": "greenhouse-angola",
   "metadata": {},
   "outputs": [],
   "source": [
    "def get_both_err(population):\n",
    "    '''\n",
    "    This function utilises the API \n",
    "    call provided to us for getting the\n",
    "    errors on the vectors within the population.\n",
    "    \n",
    "    Parameter\n",
    "    ---------\n",
    "    population: list of vector of 11-D\n",
    "    \n",
    "    Return\n",
    "    ------\n",
    "    It returns two list train_err & validation_err\n",
    "    which are errors for the given poplation's vectors.\n",
    "    '''\n",
    "    train_err = [ random.randint(1,300) for i in range(len(population))]\n",
    "    validation_err = [ random.randint(1,300) for i in range(len(population))]\n",
    "    \n",
    "#     train_err = []\n",
    "#     validation_err = []\n",
    "#     for individual in population:\n",
    "#         [te, ve]= server.get_errors(TEAM_ID,individual)\n",
    "#         train_err.append(te)\n",
    "#         validation_err.append(ve)\n",
    "    return train_err, validation_err"
   ]
  },
  {
   "cell_type": "code",
   "execution_count": 45,
   "id": "automated-topic",
   "metadata": {},
   "outputs": [],
   "source": [
    "def get_cost(train_error, validation_error):\n",
    "    '''\n",
    "    This function calculates the cost\n",
    "    for given list of errors. Lower the\n",
    "    cost more fit/perfect the vector.\n",
    "    \n",
    "    Parameter\n",
    "    ---------\n",
    "    Requires two list train_err & validation_err\n",
    "    which are errors for the given poplation's vectors.\n",
    "    \n",
    "    Return\n",
    "    ------\n",
    "    Returns the list of fitness for corresponding errors.\n",
    "    '''\n",
    "    cost = []\n",
    "    for i in range(len(train_error)):\n",
    "        sum_err = train_error[i] + validation_error[i]\n",
    "        abs_diff_err = abs(train_error[i] - validation_error[i])\n",
    "        fit = sum_err + 2 * abs_diff_err\n",
    "        cost.append(fit)\n",
    "    return cost"
   ]
  },
  {
   "cell_type": "code",
   "execution_count": 46,
   "id": "adapted-beatles",
   "metadata": {},
   "outputs": [],
   "source": [
    "def get_initial_population_info():\n",
    "    '''\n",
    "    This function will return a stack\n",
    "    of all the 10 best vector along with\n",
    "    their Train error, Validation error\n",
    "    and their cost\n",
    "    '''\n",
    "    initial_population = read_output_file()\n",
    "    train_error, validation_error = get_both_err(initial_population)\n",
    "    initial_cost = get_cost(train_error, validation_error)\n",
    "    initial_population_info = np.column_stack((initial_population,train_error, validation_error,initial_cost))\n",
    "    return initial_population_info"
   ]
  },
  {
   "cell_type": "code",
   "execution_count": 47,
   "id": "contained-state",
   "metadata": {},
   "outputs": [],
   "source": [
    "def create_mating_population(parent_population):\n",
    "    '''\n",
    "    This function will select top MATING_POOL_SIZE\n",
    "    individuals with least costs from the parent_population \n",
    "    for cross-over.\n",
    "    '''\n",
    "    mating_pool = parent_population[:MATING_POOL_SIZE]\n",
    "    return mating_pool    "
   ]
  },
  {
   "cell_type": "code",
   "execution_count": 48,
   "id": "seasonal-infrared",
   "metadata": {},
   "outputs": [],
   "source": [
    "def cross_over(p1,p2):\n",
    "    '''\n",
    "    This function simply does the cross-over\n",
    "    on two individual p1,p2 and returns c1,c2\n",
    "    i.e. crossed-child.\n",
    "    '''\n",
    "    crossover_point = random.randint(1, 10)\n",
    "    c1 = p1[:crossover_point] + p2[crossover_point:]\n",
    "    c2 = p2[:crossover_point] + p1[crossover_point:]\n",
    "    return c1, c2\n",
    "\n",
    "def simulate_cross_over(mating_population):\n",
    "    '''\n",
    "    This function will perform the cross-over\n",
    "    on mating_population and generate POPULATION_SIZE\n",
    "    total childs/individual.\n",
    "    '''\n",
    "    crossed_population = []\n",
    "    for i in range(POPULATION_SIZE//2):\n",
    "        p1 = mating_population[random.randint(0,MATING_POOL_SIZE-1)]\n",
    "        p2 = mating_population[random.randint(0,MATING_POOL_SIZE-1)]\n",
    "        c1, c2 = cross_over(p1,p2)\n",
    "        crossed_population.append(c1)\n",
    "        crossed_population.append(c2)\n",
    "    return crossed_population"
   ]
  },
  {
   "cell_type": "code",
   "execution_count": 49,
   "id": "mighty-priority",
   "metadata": {},
   "outputs": [],
   "source": [
    "def mutate_population(crossed_population):\n",
    "    '''\n",
    "    This function will mutate the crossed_population\n",
    "    and returns the mutated population.\n",
    "    '''\n",
    "    mutated_population = []\n",
    "    for i in range(len(crossed_population)):\n",
    "        curr_population = crossed_population[i]\n",
    "        for j in range(len(curr_population)):\n",
    "            if random.randint(1, 10) <= (10*MUTATION_PROBABILITY):\n",
    "                new_gene = curr_population[j]*MUTATION_FACTOR()\n",
    "                if abs(new_gene)<=10:\n",
    "                    curr_population[j]=new_gene\n",
    "        mutated_population.append(curr_population)\n",
    "    return mutated_population"
   ]
  },
  {
   "cell_type": "code",
   "execution_count": 50,
   "id": "nasty-handling",
   "metadata": {},
   "outputs": [],
   "source": [
    "def create_next_generation(mutated_population,parent_population):\n",
    "    '''\n",
    "    This funtion will...\n",
    "    '''"
   ]
  },
  {
   "cell_type": "code",
   "execution_count": 51,
   "id": "electric-liability",
   "metadata": {},
   "outputs": [],
   "source": [
    "def GA():\n",
    "    '''\n",
    "    Main function to be called to run\n",
    "    the implemented genetic algorithm.\n",
    "    '''\n",
    "    if not is_valid_file(OUTPUT_FILE):\n",
    "        create_default_output_file()\n",
    "        print('created a new output.txt')\n",
    "        \n",
    "    all_generation = []        \n",
    "    initial_population_info = get_initial_population_info()\n",
    "    # Sorting initial_population_info in decreasing order \n",
    "    # of cost, no need for it but just for precaution.\n",
    "    parent_population = initial_population_info[np.argsort(initial_population_info[:,-1])]\n",
    "    # starting the generation loop.\n",
    "    for generation in range(GENERATION_LOOP-1):\n",
    "        mating_population = create_mating_population(parent_population)\n",
    "        crossed_population = simulate_cross_over(mating_population)\n",
    "        mutated_population = mutate_population(crossed_population)\n",
    "        next_generation = create_next_generation(mutated_population,parent_population)\n",
    "        reproduction_info_dict = {\n",
    "            'parent_population': parent_population,\n",
    "            'mating_population' : mating_population,\n",
    "            'crossed_population' : crossed_population,\n",
    "            'mutated_population' : mutated_population,\n",
    "            'next_generation' : next_generation\n",
    "        }\n",
    "        print(reproduction_info_dict)\n",
    "        parent_population = next_generation\n",
    "        break\n",
    "        #@TODO: Update 10 best vectors and maintain generation\n",
    "        generation+=1"
   ]
  },
  {
   "cell_type": "code",
   "execution_count": 249,
   "id": "developmental-vessel",
   "metadata": {},
   "outputs": [],
   "source": [
    "GA()"
   ]
  },
  {
   "cell_type": "code",
   "execution_count": null,
   "id": "monthly-liberal",
   "metadata": {},
   "outputs": [],
   "source": []
  }
 ],
 "metadata": {
  "kernelspec": {
   "display_name": "Python 3",
   "language": "python",
   "name": "python3"
  },
  "language_info": {
   "codemirror_mode": {
    "name": "ipython",
    "version": 3
   },
   "file_extension": ".py",
   "mimetype": "text/x-python",
   "name": "python",
   "nbconvert_exporter": "python",
   "pygments_lexer": "ipython3",
   "version": "3.6.9"
  }
 },
 "nbformat": 4,
 "nbformat_minor": 5
}
