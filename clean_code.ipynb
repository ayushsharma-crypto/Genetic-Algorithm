{
 "cells": [
  {
   "cell_type": "markdown",
   "id": "medieval-donna",
   "metadata": {},
   "source": [
    "# Machine, Data & Learning\n",
    "\n",
    "## Project | Genetic Algorithm\n",
    "\n",
    "Team 30 | Tribrid\n",
    "-----------\n",
    "* Nitin Chandak (2019101024)\n",
    "* Ayush Sharma (2019101004)"
   ]
  },
  {
   "cell_type": "code",
   "execution_count": 151,
   "id": "sunset-devon",
   "metadata": {},
   "outputs": [],
   "source": [
    "# Usefull Imports\n",
    "import client as server\n",
    "import numpy as np\n",
    "import random\n",
    "import json\n",
    "import os\n",
    "%matplotlib inline"
   ]
  },
  {
   "cell_type": "markdown",
   "id": "third-standing",
   "metadata": {},
   "source": [
    "### Default Initial Overfit Vector\n",
    "```\n",
    "[\n",
    "    0.0, \n",
    "    -1.45799022e-12, \n",
    "    -2.28980078e-13,  \n",
    "    4.62010753e-11, \n",
    "    -1.75214813e-10, \n",
    "    -1.83669770e-15,  \n",
    "    8.52944060e-16,  \n",
    "    2.29423303e-05, \n",
    "    -2.04721003e-06, \n",
    "    -1.59792834e-08,  \n",
    "    9.98214034e-10\n",
    "]\n",
    "```"
   ]
  },
  {
   "cell_type": "code",
   "execution_count": 154,
   "id": "responsible-galaxy",
   "metadata": {},
   "outputs": [],
   "source": [
    "# Usefull Global Constants & lambda functions\n",
    "\n",
    "TEAM_ID = 'colthAUIKUTfdh4qWrnHBhJzkyEm8kt4qIue1BKtyvLItfp8Po'\n",
    "\n",
    "DEFAULT_INITIAL_OVERFIT_VECTOR = [\n",
    "    0.0, \n",
    "    -1.45799022e-12, \n",
    "    -2.28980078e-13,  \n",
    "    4.62010753e-11, \n",
    "    -1.75214813e-10, \n",
    "    -1.83669770e-15,  \n",
    "    8.52944060e-16,  \n",
    "    2.29423303e-05, \n",
    "    -2.04721003e-06, \n",
    "    -1.59792834e-08,  \n",
    "    9.98214034e-10\n",
    "]\n",
    "\n",
    "POPULATION_SIZE = 10\n",
    "GENERATION_LOOP = 0\n",
    "MIN_GENE_VAL = -10\n",
    "MAX_GENE_VAL = 10\n",
    "MUTATION_PROBABILITY = 0.3\n",
    "MUTATION_FACTOR = lambda : random.uniform(0.9, 1.1)\n",
    "MATING_POOL_SIZE = lambda : random.randint(4,6)\n",
    "OUTPUT_FILE = 'output.txt'"
   ]
  },
  {
   "cell_type": "code",
   "execution_count": 155,
   "id": "loaded-providence",
   "metadata": {},
   "outputs": [],
   "source": [
    "def is_output_file(fileName):\n",
    "    return os.path.exists(fileName)"
   ]
  },
  {
   "cell_type": "code",
   "execution_count": 156,
   "id": "valuable-irrigation",
   "metadata": {},
   "outputs": [],
   "source": [
    "def is_valid_file(filename):\n",
    "    if is_output_file(filename):\n",
    "        return (os.stat(filename).st_size != 0)\n",
    "    else:\n",
    "        return False"
   ]
  },
  {
   "cell_type": "code",
   "execution_count": 157,
   "id": "announced-richardson",
   "metadata": {},
   "outputs": [],
   "source": [
    "def create_default_output_file():\n",
    "    '''\n",
    "    This function will create a default\n",
    "    output file for dumping my 10 best vector\n",
    "    before any iteration of algorithm.\n",
    "    '''\n",
    "    answer = []\n",
    "    for i in range(10):\n",
    "        answer.append(DEFAULT_INITIAL_OVERFIT_VECTOR)\n",
    "    with open(OUTPUT_FILE,'w') as write_file:\n",
    "        json.dump(answer, write_file)"
   ]
  },
  {
   "cell_type": "code",
   "execution_count": 158,
   "id": "alien-uruguay",
   "metadata": {},
   "outputs": [],
   "source": [
    "def read_output_file():\n",
    "    '''\n",
    "    This function will read the output.txt file\n",
    "    and return the answer array there which contains\n",
    "    10 best vector obtained so far.\n",
    "    '''\n",
    "    with open(OUTPUT_FILE,'r') as write_file:\n",
    "        answer=json.load(write_file)\n",
    "    return answer"
   ]
  },
  {
   "cell_type": "code",
   "execution_count": 159,
   "id": "timely-nancy",
   "metadata": {},
   "outputs": [],
   "source": [
    "def dump_best_vectors(answer: list):\n",
    "    '''\n",
    "    This function will dump the list of\n",
    "    10 vectors into the output.txt file.\n",
    "    And return the updated data.\n",
    "    '''\n",
    "    with open(OUTPUT_FILE,'w') as write_file:\n",
    "        json.dump(answer, write_file)\n",
    "    return read_output_file()"
   ]
  },
  {
   "cell_type": "code",
   "execution_count": 160,
   "id": "victorian-criminal",
   "metadata": {},
   "outputs": [],
   "source": [
    "#@TODO: Get 10 best vector array i.e. initialize initial population\n",
    "#@TODO: Within While loop:\n",
    "#       Generate new Population\n",
    "#       Get errors, fitness & curr_weight_distribution\n",
    "#       Update 10 best vector array i.e. make a separate list for it.\n",
    "#       Keep track of generations of the vecotrs for generation folder.\n",
    "#       Dump 10 best vectors into output.txt file."
   ]
  },
  {
   "cell_type": "code",
   "execution_count": 161,
   "id": "mounted-thomson",
   "metadata": {},
   "outputs": [],
   "source": [
    "def GA():\n",
    "    \n",
    "    '''\n",
    "    Main function to be called to run\n",
    "    the implemented genetic algorithm.\n",
    "    '''\n",
    "    \n",
    "    if not is_valid_file(OUTPUT_FILE):\n",
    "        create_default_output_file()\n",
    "        print('created a new output.txt')\n",
    "        \n",
    "    initial_population = read_output_file()\n",
    "    print(initial_population)"
   ]
  },
  {
   "cell_type": "code",
   "execution_count": 162,
   "id": "better-immunology",
   "metadata": {},
   "outputs": [],
   "source": [
    "GA()"
   ]
  },
  {
   "cell_type": "code",
   "execution_count": null,
   "id": "funded-insulin",
   "metadata": {},
   "outputs": [],
   "source": []
  }
 ],
 "metadata": {
  "kernelspec": {
   "display_name": "Python 3",
   "language": "python",
   "name": "python3"
  },
  "language_info": {
   "codemirror_mode": {
    "name": "ipython",
    "version": 3
   },
   "file_extension": ".py",
   "mimetype": "text/x-python",
   "name": "python",
   "nbconvert_exporter": "python",
   "pygments_lexer": "ipython3",
   "version": "3.6.9"
  }
 },
 "nbformat": 4,
 "nbformat_minor": 5
}
