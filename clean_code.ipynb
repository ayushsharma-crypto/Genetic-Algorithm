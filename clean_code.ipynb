{
 "cells": [
  {
   "cell_type": "markdown",
   "id": "wired-leonard",
   "metadata": {},
   "source": [
    "# Machine, Data & Learning\n",
    "\n",
    "## Project | Genetic Algorithm\n",
    "\n",
    "Team 30 | Tribrid\n",
    "-----------\n",
    "* Nitin Chandak (2019101024)\n",
    "* Ayush Sharma (2019101004)"
   ]
  },
  {
   "cell_type": "code",
   "execution_count": 44,
   "id": "dedicated-lobby",
   "metadata": {},
   "outputs": [],
   "source": [
    "# Usefull Imports\n",
    "import client as server\n",
    "import numpy as np\n",
    "import random\n",
    "import json\n",
    "%matplotlib inline"
   ]
  },
  {
   "cell_type": "markdown",
   "id": "integrated-deputy",
   "metadata": {},
   "source": [
    "### Default Initial Overfit Vector\n",
    "```\n",
    "[\n",
    "    0.0, \n",
    "    -1.45799022e-12, \n",
    "    -2.28980078e-13,  \n",
    "    4.62010753e-11, \n",
    "    -1.75214813e-10, \n",
    "    -1.83669770e-15,  \n",
    "    8.52944060e-16,  \n",
    "    2.29423303e-05, \n",
    "    -2.04721003e-06, \n",
    "    -1.59792834e-08,  \n",
    "    9.98214034e-10\n",
    "]\n",
    "```"
   ]
  },
  {
   "cell_type": "code",
   "execution_count": 45,
   "id": "soviet-valuation",
   "metadata": {},
   "outputs": [],
   "source": [
    "# Usefull Global Constants & lambda functions\n",
    "\n",
    "TEAM_ID = 'colthAUIKUTfdh4qWrnHBhJzkyEm8kt4qIue1BKtyvLItfp8Po'\n",
    "\n",
    "DEFAULT_INITIAL_OVERFIT_VECTOR = [\n",
    "    0.0, \n",
    "    -1.45799022e-12, \n",
    "    -2.28980078e-13,  \n",
    "    4.62010753e-11, \n",
    "    -1.75214813e-10, \n",
    "    -1.83669770e-15,  \n",
    "    8.52944060e-16,  \n",
    "    2.29423303e-05, \n",
    "    -2.04721003e-06, \n",
    "    -1.59792834e-08,  \n",
    "    9.98214034e-10\n",
    "]\n",
    "\n",
    "POPULATION_SIZE = 10\n",
    "TOTAL_GENERATION = 0\n",
    "MIN_GENE_VAL = -10\n",
    "MAX_GENE_VAL = 10\n",
    "MUTATION_PROBABILITY = 0.3\n",
    "MUTATION_FACTOR = lambda : random.uniform(0.9, 1.1)\n",
    "MATING_POOL_SIZE = lambda : random.randint(3,5)"
   ]
  },
  {
   "cell_type": "code",
   "execution_count": 46,
   "id": "centered-highway",
   "metadata": {},
   "outputs": [],
   "source": [
    "# def create_default_output_file():\n",
    "#     '''\n",
    "#     This function will create a default\n",
    "#     output file for dumping my 10 best vector\n",
    "#     before any iteration of algorithm.\n",
    "#     '''\n",
    "#     answer = []\n",
    "#     for i in range(10):\n",
    "#         answer.append(DEFAULT_INITIAL_OVERFIT_VECTOR)\n",
    "#     with open('output.txt','w') as write_file:\n",
    "#         json.dump(answer, write_file)"
   ]
  },
  {
   "cell_type": "code",
   "execution_count": 47,
   "id": "exposed-valley",
   "metadata": {},
   "outputs": [],
   "source": [
    "# create_default_output_file()\n",
    "# '''\n",
    "# This function call has been made \n",
    "# only once to just make a starter \n",
    "# output.txt for our algorithm to work.\n",
    "# '''"
   ]
  },
  {
   "cell_type": "code",
   "execution_count": 48,
   "id": "executive-split",
   "metadata": {},
   "outputs": [],
   "source": [
    "def read_output_file():\n",
    "    '''\n",
    "    This function will read the output.txt file\n",
    "    and return the answer array there which contains\n",
    "    10 best vector obtained so far.\n",
    "    '''\n",
    "    with open('output.txt','r') as write_file:\n",
    "        answer=json.load(write_file)\n",
    "    return answer"
   ]
  },
  {
   "cell_type": "code",
   "execution_count": null,
   "id": "similar-inflation",
   "metadata": {},
   "outputs": [],
   "source": []
  }
 ],
 "metadata": {
  "kernelspec": {
   "display_name": "Python 3",
   "language": "python",
   "name": "python3"
  },
  "language_info": {
   "codemirror_mode": {
    "name": "ipython",
    "version": 3
   },
   "file_extension": ".py",
   "mimetype": "text/x-python",
   "name": "python",
   "nbconvert_exporter": "python",
   "pygments_lexer": "ipython3",
   "version": "3.6.9"
  }
 },
 "nbformat": 4,
 "nbformat_minor": 5
}
