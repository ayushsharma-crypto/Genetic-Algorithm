{
 "cells": [
  {
   "cell_type": "markdown",
   "id": "revised-viking",
   "metadata": {},
   "source": [
    "# Machine, Data & Learning\n",
    "\n",
    "## Project | Genetic Algorithm\n",
    "\n",
    "Team 30 | Tribrid\n",
    "-----------\n",
    "* Nitin Chandak (2019101024)\n",
    "* Ayush Sharma (2019101004)"
   ]
  },
  {
   "cell_type": "code",
   "execution_count": 3,
   "id": "occupied-intensity",
   "metadata": {},
   "outputs": [],
   "source": [
    "# Usefull Imports\n",
    "import client as server\n",
    "import numpy as np\n",
    "import matplotlib.pyplot as plt\n",
    "import random\n",
    "import copy\n",
    "import json\n",
    "%matplotlib inline"
   ]
  },
  {
   "cell_type": "markdown",
   "id": "precious-regard",
   "metadata": {},
   "source": [
    "### Initial Overfit Vector\n",
    "```\n",
    "[\n",
    "    0.0, \n",
    "    -1.45799022e-12, \n",
    "    -2.28980078e-13,  \n",
    "    4.62010753e-11, \n",
    "    -1.75214813e-10, \n",
    "    -1.83669770e-15,  \n",
    "    8.52944060e-16,  \n",
    "    2.29423303e-05, \n",
    "    -2.04721003e-06, \n",
    "    -1.59792834e-08,  \n",
    "    9.98214034e-10\n",
    "]\n",
    "```"
   ]
  },
  {
   "cell_type": "code",
   "execution_count": 20,
   "id": "perceived-interview",
   "metadata": {},
   "outputs": [],
   "source": [
    "# Usefull Global Constants & lambda functions\n",
    "TEAM_ID = 'colthAUIKUTfdh4qWrnHBhJzkyEm8kt4qIue1BKtyvLItfp8Po'\n",
    "INITIAL_OVERFIT_VECTOR = [\n",
    "    0.0, \n",
    "    -1.45799022e-12, \n",
    "    -2.28980078e-13,  \n",
    "    4.62010753e-11, \n",
    "    -1.75214813e-10, \n",
    "    -1.83669770e-15,  \n",
    "    8.52944060e-16,  \n",
    "    2.29423303e-05, \n",
    "    -2.04721003e-06, \n",
    "    -1.59792834e-08,  \n",
    "    9.98214034e-10\n",
    "]\n",
    "POPULATION_SIZE = 15\n",
    "TOTAL_GENERATION = 100\n",
    "MIN_GENE_VAL = -10\n",
    "MAX_GENE_VAL = 10\n",
    "MUTATION_PROBABILITY = 0.3\n",
    "MUTATION_FACTOR = lambda : random.uniform(0.9, 1.1)\n",
    "MATING_POOL_SIZE = random.randint(5,9)\n",
    "TRAIN_FACTOR_ARRAY = [1,0.6,-1]"
   ]
  },
  {
   "cell_type": "code",
   "execution_count": 74,
   "id": "important-nurse",
   "metadata": {},
   "outputs": [],
   "source": [
    "def mutate_initial_individual(individual):\n",
    "    '''\n",
    "    This function will mutate every gene in an individual which is\n",
    "    a vector of 11-D or array of 11 size with probability\n",
    "    MUTATION_PROBABILITY & leave other gene as it is.\n",
    "    '''\n",
    "    ret_individual = []\n",
    "    for igene in range(len(individual)):\n",
    "        ret_individual.append(individual[igene])\n",
    "        if random.randint(1, 10) <= (10*MUTATION_PROBABILITY):\n",
    "            final_gene = INITIAL_OVERFIT_VECTOR[igene]*MUTATION_FACTOR()\n",
    "            if final_gene<-10:\n",
    "                ret_individual[igene] = -10\n",
    "            elif final_gene>10:\n",
    "                ret_individual[igene] = 10\n",
    "            else:\n",
    "                ret_individual[igene] = final_gene\n",
    "    return ret_individual\n",
    "                \n",
    "\n",
    "def create_initial_population():\n",
    "    '''\n",
    "    Initializes the population. Gene is 0 by default\n",
    "    but replaced with MUTATION_FACTOR*Initial_Overfit_Vector\n",
    "    with probability MUTATION_PROBABILITY.\n",
    "    Constraint on Gene is:\n",
    "    -10 <= Gene <= 10\n",
    "    '''\n",
    "    population = []\n",
    "    for i in range(POPULATION_SIZE):\n",
    "        individual = np.array(INITIAL_OVERFIT_VECTOR)\n",
    "        individual[individual != 0 ] = 0\n",
    "        individual = np.array(mutate_initial_individual(individual))\n",
    "        population.append(individual)\n",
    "    return population"
   ]
  },
  {
   "cell_type": "code",
   "execution_count": 75,
   "id": "improving-carter",
   "metadata": {},
   "outputs": [
    {
     "name": "stdout",
     "output_type": "stream",
     "text": [
      "[[ 0.00000000e+00  0.00000000e+00  0.00000000e+00  0.00000000e+00\n",
      "   0.00000000e+00  0.00000000e+00  0.00000000e+00  2.41152913e-05\n",
      "   0.00000000e+00 -1.48321664e-08  0.00000000e+00]\n",
      " [ 0.00000000e+00  0.00000000e+00 -2.51855991e-13  0.00000000e+00\n",
      "  -1.74367066e-10  0.00000000e+00  8.29965546e-16  2.38667679e-05\n",
      "   0.00000000e+00  0.00000000e+00  0.00000000e+00]\n",
      " [ 0.00000000e+00  0.00000000e+00  0.00000000e+00  4.69386249e-11\n",
      "   0.00000000e+00  0.00000000e+00  0.00000000e+00  0.00000000e+00\n",
      "  -2.18624764e-06  0.00000000e+00  0.00000000e+00]\n",
      " [ 0.00000000e+00  0.00000000e+00 -2.41808638e-13  0.00000000e+00\n",
      "  -1.64583335e-10 -1.67721869e-15  0.00000000e+00  0.00000000e+00\n",
      "  -2.00849479e-06 -1.73053771e-08  0.00000000e+00]\n",
      " [ 0.00000000e+00 -1.45779381e-12  0.00000000e+00  4.20471375e-11\n",
      "   0.00000000e+00  0.00000000e+00  0.00000000e+00  0.00000000e+00\n",
      "  -1.99976324e-06 -1.47169201e-08  1.01828976e-09]\n",
      " [ 0.00000000e+00  0.00000000e+00 -2.15375821e-13  0.00000000e+00\n",
      "  -1.77763801e-10  0.00000000e+00  0.00000000e+00  0.00000000e+00\n",
      "  -1.85236657e-06  0.00000000e+00  9.10706685e-10]\n",
      " [ 0.00000000e+00  0.00000000e+00 -2.12670832e-13  0.00000000e+00\n",
      "  -1.60318025e-10  0.00000000e+00  0.00000000e+00  0.00000000e+00\n",
      "   0.00000000e+00  0.00000000e+00  9.31925624e-10]\n",
      " [ 0.00000000e+00  0.00000000e+00  0.00000000e+00  0.00000000e+00\n",
      "   0.00000000e+00  0.00000000e+00  0.00000000e+00  0.00000000e+00\n",
      "  -2.22830790e-06  0.00000000e+00  0.00000000e+00]\n",
      " [ 0.00000000e+00  0.00000000e+00  0.00000000e+00  0.00000000e+00\n",
      "   0.00000000e+00  0.00000000e+00  0.00000000e+00  0.00000000e+00\n",
      "  -2.10973910e-06 -1.70881605e-08  0.00000000e+00]\n",
      " [ 0.00000000e+00  0.00000000e+00  0.00000000e+00  0.00000000e+00\n",
      "   0.00000000e+00  0.00000000e+00  0.00000000e+00  0.00000000e+00\n",
      "   0.00000000e+00  0.00000000e+00  0.00000000e+00]\n",
      " [ 0.00000000e+00 -1.37654475e-12  0.00000000e+00  5.07352356e-11\n",
      "   0.00000000e+00 -1.68019266e-15  8.66897832e-16  0.00000000e+00\n",
      "   0.00000000e+00  0.00000000e+00  9.77245224e-10]\n",
      " [ 0.00000000e+00  0.00000000e+00  0.00000000e+00  0.00000000e+00\n",
      "   0.00000000e+00  0.00000000e+00  0.00000000e+00  0.00000000e+00\n",
      "   0.00000000e+00  0.00000000e+00  0.00000000e+00]\n",
      " [ 0.00000000e+00 -1.31896631e-12 -2.34760521e-13  0.00000000e+00\n",
      "  -1.86578891e-10 -1.80508249e-15  8.84547726e-16  0.00000000e+00\n",
      "   0.00000000e+00 -1.60235418e-08  0.00000000e+00]\n",
      " [ 0.00000000e+00 -1.47751511e-12  0.00000000e+00  0.00000000e+00\n",
      "   0.00000000e+00  0.00000000e+00  8.04090383e-16  0.00000000e+00\n",
      "   0.00000000e+00  0.00000000e+00  0.00000000e+00]\n",
      " [ 0.00000000e+00  0.00000000e+00  0.00000000e+00  4.55226617e-11\n",
      "   0.00000000e+00  0.00000000e+00  0.00000000e+00  0.00000000e+00\n",
      "   0.00000000e+00  0.00000000e+00  9.07830013e-10]]\n"
     ]
    }
   ],
   "source": [
    "curr_population = np.array(create_initial_population())\n",
    "print(curr_population)"
   ]
  },
  {
   "cell_type": "code",
   "execution_count": null,
   "id": "owned-psychology",
   "metadata": {},
   "outputs": [],
   "source": []
  }
 ],
 "metadata": {
  "kernelspec": {
   "display_name": "Python 3",
   "language": "python",
   "name": "python3"
  },
  "language_info": {
   "codemirror_mode": {
    "name": "ipython",
    "version": 3
   },
   "file_extension": ".py",
   "mimetype": "text/x-python",
   "name": "python",
   "nbconvert_exporter": "python",
   "pygments_lexer": "ipython3",
   "version": "3.6.9"
  }
 },
 "nbformat": 4,
 "nbformat_minor": 5
}
