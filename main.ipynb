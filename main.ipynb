{
 "cells": [
  {
   "cell_type": "markdown",
   "id": "revised-viking",
   "metadata": {},
   "source": [
    "# Machine, Data & Learning\n",
    "\n",
    "## Project | Genetic Algorithm\n",
    "\n",
    "Team 30 | Tribrid\n",
    "-----------\n",
    "* Nitin Chandak (2019101024)\n",
    "* Ayush Sharma (2019101004)"
   ]
  },
  {
   "cell_type": "code",
   "execution_count": 331,
   "id": "occupied-intensity",
   "metadata": {},
   "outputs": [],
   "source": [
    "# Usefull Imports\n",
    "import client as server\n",
    "import numpy as np\n",
    "import matplotlib.pyplot as plt\n",
    "import random\n",
    "import copy\n",
    "import json\n",
    "%matplotlib inline"
   ]
  },
  {
   "cell_type": "markdown",
   "id": "precious-regard",
   "metadata": {},
   "source": [
    "### Initial Overfit Vector\n",
    "```\n",
    "[\n",
    "    0.0, \n",
    "    -1.45799022e-12, \n",
    "    -2.28980078e-13,  \n",
    "    4.62010753e-11, \n",
    "    -1.75214813e-10, \n",
    "    -1.83669770e-15,  \n",
    "    8.52944060e-16,  \n",
    "    2.29423303e-05, \n",
    "    -2.04721003e-06, \n",
    "    -1.59792834e-08,  \n",
    "    9.98214034e-10\n",
    "]\n",
    "```"
   ]
  },
  {
   "cell_type": "code",
   "execution_count": 332,
   "id": "perceived-interview",
   "metadata": {},
   "outputs": [],
   "source": [
    "# Usefull Global Constants & lambda functions\n",
    "TEAM_ID = 'colthAUIKUTfdh4qWrnHBhJzkyEm8kt4qIue1BKtyvLItfp8Po'\n",
    "INITIAL_OVERFIT_VECTOR = [\n",
    "    0.0, \n",
    "    -1.45799022e-12, \n",
    "    -2.28980078e-13,  \n",
    "    4.62010753e-11, \n",
    "    -1.75214813e-10, \n",
    "    -1.83669770e-15,  \n",
    "    8.52944060e-16,  \n",
    "    2.29423303e-05, \n",
    "    -2.04721003e-06, \n",
    "    -1.59792834e-08,  \n",
    "    9.98214034e-10\n",
    "]\n",
    "POPULATION_SIZE = 8\n",
    "TOTAL_GENERATION = 10\n",
    "MIN_GENE_VAL = -10\n",
    "MAX_GENE_VAL = 10\n",
    "MUTATION_PROBABILITY = 0.3\n",
    "MUTATION_FACTOR = lambda : random.uniform(0.9, 1.1)\n",
    "MATING_POOL_SIZE = lambda : random.randint(3,5)"
   ]
  },
  {
   "cell_type": "code",
   "execution_count": 333,
   "id": "important-nurse",
   "metadata": {},
   "outputs": [],
   "source": [
    "def mutate_initial_individual(individual):\n",
    "    '''\n",
    "    This function will mutate every gene in an individual which is\n",
    "    a vector of 11-D or array of 11 size with probability\n",
    "    MUTATION_PROBABILITY & leave other gene as it is.\n",
    "    '''\n",
    "    ret_individual = []\n",
    "    for igene in range(len(individual)):\n",
    "        ret_individual.append(individual[igene])\n",
    "        if random.randint(1, 10) <= (10*MUTATION_PROBABILITY):\n",
    "            final_gene = INITIAL_OVERFIT_VECTOR[igene]*MUTATION_FACTOR()\n",
    "            if final_gene<MIN_GENE_VAL:\n",
    "                ret_individual[igene] = MIN_GENE_VAL\n",
    "            elif final_gene>MAX_GENE_VAL:\n",
    "                ret_individual[igene] = MAX_GENE_VAL\n",
    "            else:\n",
    "                ret_individual[igene] = final_gene\n",
    "    return ret_individual\n",
    "            \n",
    "\n",
    "def create_initial_population():\n",
    "    '''\n",
    "    Initializes the population. Gene is 0 by default\n",
    "    but replaced with MUTATION_FACTOR*Initial_Overfit_Vector\n",
    "    with probability MUTATION_PROBABILITY.\n",
    "    Constraint on Gene is:\n",
    "    MIN_GENE_VAL <= Gene <= MAX_GENE_VAL\n",
    "    '''\n",
    "    population = []\n",
    "    for i in range(POPULATION_SIZE):\n",
    "        individual = np.array(INITIAL_OVERFIT_VECTOR)\n",
    "        individual[individual != 0 ] = 0\n",
    "        individual = np.array(mutate_initial_individual(individual))\n",
    "        population.append(individual)\n",
    "    return population"
   ]
  },
  {
   "cell_type": "code",
   "execution_count": 334,
   "id": "forced-explosion",
   "metadata": {},
   "outputs": [],
   "source": [
    "def population_fitness(population):\n",
    "    curr_fitness=[]\n",
    "    for individual in population:\n",
    "        curr_fitness.append(individual_fitness(individual))\n",
    "    return curr_fitness\n",
    "\n",
    "\n",
    "def individual_fitness(individual):\n",
    "#     [train_error, validation_error]= server.get_errors(TEAM_ID,individual.tolist())\n",
    "    #@TODO: make a fitness logic\n",
    "    print(train_error, validation_error)\n",
    "    return  (1 / ((train_error + validation_error) + 2 * abs(train_error - validation_error)))\n",
    "#     return abs((train_error*(TRAIN_FACTOR_ARRAY[0])+validation_error))"
   ]
  },
  {
   "cell_type": "code",
   "execution_count": 335,
   "id": "grand-belle",
   "metadata": {},
   "outputs": [],
   "source": [
    "def sort_y_wrt_x(cx_list,cy_list):\n",
    "    sort_index = np.argsort(np.array(cx_list))\n",
    "#     czipped_list = zip(cx_list,cy_list.all)\n",
    "#     csorted_pairs = sorted(czipped_list)\n",
    "#     ctuples = zip(*csorted_pairs)\n",
    "#     cx_list, cy_list = [ list(tuple) for tuple in  ctuples]\n",
    "    return cx_list,cy_list"
   ]
  },
  {
   "cell_type": "code",
   "execution_count": 336,
   "id": "atlantic-local",
   "metadata": {},
   "outputs": [],
   "source": [
    "def cross_over(mating_population):\n",
    "    mated_population = []\n",
    "    index = len(mating_population)-1\n",
    "    while index>0:\n",
    "        I1 = mating_population[index]\n",
    "        I2 = mating_population[index-1]\n",
    "        crossover_point = random.randint(1, POPULATION_SIZE-1)\n",
    "        C1 = list(I1[:crossover_point]) + list(I2[crossover_point:])\n",
    "        C2 = list(I2[:crossover_point]) + list(I1[crossover_point:])\n",
    "        mated_population.append(C1)\n",
    "        mated_population.append(C2)\n",
    "        index-=2\n",
    "    return mated_population"
   ]
  },
  {
   "cell_type": "code",
   "execution_count": 337,
   "id": "regulated-debut",
   "metadata": {},
   "outputs": [],
   "source": [
    "def mutate_mated_population(mated_population):\n",
    "    mutated_mated_population = []\n",
    "    for individual in mated_population:\n",
    "        temp_individual = []\n",
    "        for igene in range(len(individual)):\n",
    "            if random.randint(1, 10) <= (10*MUTATION_PROBABILITY):\n",
    "                new_gene = individual[igene]*MUTATION_FACTOR()\n",
    "                if new_gene<MIN_GENE_VAL:\n",
    "                    temp_individual.append(MIN_GENE_VAL)\n",
    "                elif new_gene>MAX_GENE_VAL:\n",
    "                    temp_individual.append(MAX_GENE_VAL) \n",
    "                else:\n",
    "                    temp_individual.append(new_gene)\n",
    "            else:\n",
    "                temp_individual.append(individual[igene])\n",
    "        mutated_mated_population.append(temp_individual)\n",
    "    return mutated_mated_population"
   ]
  },
  {
   "cell_type": "code",
   "execution_count": 338,
   "id": "numerous-advance",
   "metadata": {},
   "outputs": [],
   "source": [
    "def next_generation(mutated_mated_population,modified_population):\n",
    "    next_gen_pop = mutated_mated_population[:]\n",
    "    modified_pop = modified_population[::-1]\n",
    "    remain_individual = POPULATION_SIZE-len(next_gen_pop)\n",
    "    for i in range(remain_individual):\n",
    "        next_gen_pop.append(modified_pop[i])\n",
    "    return next_gen_pop"
   ]
  },
  {
   "cell_type": "code",
   "execution_count": 339,
   "id": "focused-fight",
   "metadata": {},
   "outputs": [],
   "source": [
    "def reproduction_function(curr_fitness,curr_population):\n",
    "    modified_fitness,modified_population = sort_y_wrt_x(list(curr_fitness),curr_population)\n",
    "    mating_population = modified_population[(POPULATION_SIZE-MATING_POOL_SIZE()):]\n",
    "    mated_population = cross_over(mating_population)\n",
    "    mutated_mated_population = mutate_mated_population(mated_population)\n",
    "    next_gen_population = next_generation(mutated_mated_population,modified_population)\n",
    "    return next_gen_population"
   ]
  },
  {
   "cell_type": "code",
   "execution_count": 340,
   "id": "aware-dover",
   "metadata": {},
   "outputs": [],
   "source": [
    "def get_best_vector(curr_fitness, curr_population):\n",
    "    optimum_fitness_index = -1\n",
    "    optimum_fitness = -1\n",
    "    for ifitness in range(len(curr_fitness)):\n",
    "        if curr_fitness[ifitness]>optimum_fitness:\n",
    "            optimum_fitness_index = ifitness\n",
    "    return curr_population[optimum_fitness_index],curr_fitness[optimum_fitness_index]"
   ]
  },
  {
   "cell_type": "code",
   "execution_count": 341,
   "id": "improving-carter",
   "metadata": {
    "scrolled": true
   },
   "outputs": [],
   "source": [
    "def run_algo():\n",
    "    curr_population = np.array(create_initial_population())\n",
    "    curr_fitness =  np.random.randint(1,101,POPULATION_SIZE)\n",
    "    # curr_fitness = np.array(population_fitness(curr_population))\n",
    "    best_vector,best_vector_fitness = get_best_vector(curr_fitness, curr_population)\n",
    "    curr_gen = 2\n",
    "    while curr_gen<=TOTAL_GENERATION:\n",
    "        print(\"cuurr_gen => \",curr_gen)\n",
    "        print(\"cuurr_population => \",curr_population)\n",
    "        curr_population = np.array(reproduction_function(curr_fitness,curr_population))\n",
    "        curr_fitness = np.random.randint(1,101,POPULATION_SIZE)\n",
    "        temp_best_vector,temp_best_vector_fitness = get_best_vector(curr_fitness, curr_population)\n",
    "        if temp_best_vector_fitness>best_vector_fitness:\n",
    "            best_vector_fitness = temp_best_vector_fitness\n",
    "            best_vector = temp_best_vector\n",
    "    #     curr_fitness = np.array(population_fitness(curr_population))\n",
    "        curr_gen+=1\n",
    "    print(best_vector,best_vector_fitness)"
   ]
  },
  {
   "cell_type": "code",
   "execution_count": 330,
   "id": "present-ability",
   "metadata": {},
   "outputs": [
    {
     "name": "stdout",
     "output_type": "stream",
     "text": [
      "cuurr_gen =>  2\n",
      "cuurr_population =>  [[ 0.00000000e+00  0.00000000e+00  0.00000000e+00  0.00000000e+00\n",
      "   0.00000000e+00  0.00000000e+00  0.00000000e+00  0.00000000e+00\n",
      "   0.00000000e+00  0.00000000e+00  9.16099611e-10]\n",
      " [ 0.00000000e+00  0.00000000e+00  0.00000000e+00  0.00000000e+00\n",
      "   0.00000000e+00 -1.99587480e-15  0.00000000e+00  0.00000000e+00\n",
      "  -2.09524245e-06  0.00000000e+00  1.01748150e-09]\n",
      " [ 0.00000000e+00  0.00000000e+00  0.00000000e+00  0.00000000e+00\n",
      "   0.00000000e+00 -1.88365997e-15  0.00000000e+00  0.00000000e+00\n",
      "  -2.06701142e-06  0.00000000e+00  0.00000000e+00]\n",
      " [ 0.00000000e+00  0.00000000e+00  0.00000000e+00  4.45738706e-11\n",
      "   0.00000000e+00  0.00000000e+00  0.00000000e+00  0.00000000e+00\n",
      "   0.00000000e+00  0.00000000e+00  1.09013738e-09]\n",
      " [ 0.00000000e+00  0.00000000e+00 -2.17838314e-13  0.00000000e+00\n",
      "   0.00000000e+00 -1.67548453e-15  0.00000000e+00  2.48102362e-05\n",
      "   0.00000000e+00  0.00000000e+00  0.00000000e+00]\n",
      " [ 0.00000000e+00  0.00000000e+00  0.00000000e+00  0.00000000e+00\n",
      "  -1.71687896e-10  0.00000000e+00  0.00000000e+00  0.00000000e+00\n",
      "   0.00000000e+00  0.00000000e+00  1.09255465e-09]\n",
      " [ 0.00000000e+00  0.00000000e+00 -2.30439137e-13  0.00000000e+00\n",
      "   0.00000000e+00  0.00000000e+00  0.00000000e+00  0.00000000e+00\n",
      "  -2.24344504e-06  0.00000000e+00  1.08874364e-09]\n",
      " [ 0.00000000e+00 -1.46239515e-12  0.00000000e+00  0.00000000e+00\n",
      "   0.00000000e+00  0.00000000e+00  0.00000000e+00  0.00000000e+00\n",
      "  -2.21571175e-06 -1.73610647e-08  0.00000000e+00]]\n"
     ]
    },
    {
     "ename": "TypeError",
     "evalue": "zip argument #2 must support iteration",
     "output_type": "error",
     "traceback": [
      "\u001b[0;31m---------------------------------------------------------------------------\u001b[0m",
      "\u001b[0;31mTypeError\u001b[0m                                 Traceback (most recent call last)",
      "\u001b[0;32m<ipython-input-330-5dc2be5ae20f>\u001b[0m in \u001b[0;36m<module>\u001b[0;34m\u001b[0m\n\u001b[0;32m----> 1\u001b[0;31m \u001b[0mrun_algo\u001b[0m\u001b[0;34m(\u001b[0m\u001b[0;34m)\u001b[0m\u001b[0;34m\u001b[0m\u001b[0;34m\u001b[0m\u001b[0m\n\u001b[0m",
      "\u001b[0;32m<ipython-input-329-34a79c85cc36>\u001b[0m in \u001b[0;36mrun_algo\u001b[0;34m()\u001b[0m\n\u001b[1;32m      8\u001b[0m         \u001b[0mprint\u001b[0m\u001b[0;34m(\u001b[0m\u001b[0;34m\"cuurr_gen => \"\u001b[0m\u001b[0;34m,\u001b[0m\u001b[0mcurr_gen\u001b[0m\u001b[0;34m)\u001b[0m\u001b[0;34m\u001b[0m\u001b[0;34m\u001b[0m\u001b[0m\n\u001b[1;32m      9\u001b[0m         \u001b[0mprint\u001b[0m\u001b[0;34m(\u001b[0m\u001b[0;34m\"cuurr_population => \"\u001b[0m\u001b[0;34m,\u001b[0m\u001b[0mcurr_population\u001b[0m\u001b[0;34m)\u001b[0m\u001b[0;34m\u001b[0m\u001b[0;34m\u001b[0m\u001b[0m\n\u001b[0;32m---> 10\u001b[0;31m         \u001b[0mcurr_population\u001b[0m \u001b[0;34m=\u001b[0m \u001b[0mnp\u001b[0m\u001b[0;34m.\u001b[0m\u001b[0marray\u001b[0m\u001b[0;34m(\u001b[0m\u001b[0mreproduction_function\u001b[0m\u001b[0;34m(\u001b[0m\u001b[0mcurr_fitness\u001b[0m\u001b[0;34m,\u001b[0m\u001b[0mcurr_population\u001b[0m\u001b[0;34m)\u001b[0m\u001b[0;34m)\u001b[0m\u001b[0;34m\u001b[0m\u001b[0;34m\u001b[0m\u001b[0m\n\u001b[0m\u001b[1;32m     11\u001b[0m         \u001b[0mcurr_fitness\u001b[0m \u001b[0;34m=\u001b[0m \u001b[0mnp\u001b[0m\u001b[0;34m.\u001b[0m\u001b[0mrandom\u001b[0m\u001b[0;34m.\u001b[0m\u001b[0mrandint\u001b[0m\u001b[0;34m(\u001b[0m\u001b[0;36m1\u001b[0m\u001b[0;34m,\u001b[0m\u001b[0;36m101\u001b[0m\u001b[0;34m,\u001b[0m\u001b[0mPOPULATION_SIZE\u001b[0m\u001b[0;34m)\u001b[0m\u001b[0;34m\u001b[0m\u001b[0;34m\u001b[0m\u001b[0m\n\u001b[1;32m     12\u001b[0m         \u001b[0mtemp_best_vector\u001b[0m\u001b[0;34m,\u001b[0m\u001b[0mtemp_best_vector_fitness\u001b[0m \u001b[0;34m=\u001b[0m \u001b[0mget_best_vector\u001b[0m\u001b[0;34m(\u001b[0m\u001b[0mcurr_fitness\u001b[0m\u001b[0;34m,\u001b[0m \u001b[0mcurr_population\u001b[0m\u001b[0;34m)\u001b[0m\u001b[0;34m\u001b[0m\u001b[0;34m\u001b[0m\u001b[0m\n",
      "\u001b[0;32m<ipython-input-327-41a56a92b139>\u001b[0m in \u001b[0;36mreproduction_function\u001b[0;34m(curr_fitness, curr_population)\u001b[0m\n\u001b[1;32m      1\u001b[0m \u001b[0;32mdef\u001b[0m \u001b[0mreproduction_function\u001b[0m\u001b[0;34m(\u001b[0m\u001b[0mcurr_fitness\u001b[0m\u001b[0;34m,\u001b[0m\u001b[0mcurr_population\u001b[0m\u001b[0;34m)\u001b[0m\u001b[0;34m:\u001b[0m\u001b[0;34m\u001b[0m\u001b[0;34m\u001b[0m\u001b[0m\n\u001b[0;32m----> 2\u001b[0;31m     \u001b[0mmodified_fitness\u001b[0m\u001b[0;34m,\u001b[0m\u001b[0mmodified_population\u001b[0m \u001b[0;34m=\u001b[0m \u001b[0msort_y_wrt_x\u001b[0m\u001b[0;34m(\u001b[0m\u001b[0mlist\u001b[0m\u001b[0;34m(\u001b[0m\u001b[0mcurr_fitness\u001b[0m\u001b[0;34m)\u001b[0m\u001b[0;34m,\u001b[0m\u001b[0mcurr_population\u001b[0m\u001b[0;34m)\u001b[0m\u001b[0;34m\u001b[0m\u001b[0;34m\u001b[0m\u001b[0m\n\u001b[0m\u001b[1;32m      3\u001b[0m     \u001b[0mmating_population\u001b[0m \u001b[0;34m=\u001b[0m \u001b[0mmodified_population\u001b[0m\u001b[0;34m[\u001b[0m\u001b[0;34m(\u001b[0m\u001b[0mPOPULATION_SIZE\u001b[0m\u001b[0;34m-\u001b[0m\u001b[0mMATING_POOL_SIZE\u001b[0m\u001b[0;34m(\u001b[0m\u001b[0;34m)\u001b[0m\u001b[0;34m)\u001b[0m\u001b[0;34m:\u001b[0m\u001b[0;34m]\u001b[0m\u001b[0;34m\u001b[0m\u001b[0;34m\u001b[0m\u001b[0m\n\u001b[1;32m      4\u001b[0m     \u001b[0mmated_population\u001b[0m \u001b[0;34m=\u001b[0m \u001b[0mcross_over\u001b[0m\u001b[0;34m(\u001b[0m\u001b[0mmating_population\u001b[0m\u001b[0;34m)\u001b[0m\u001b[0;34m\u001b[0m\u001b[0;34m\u001b[0m\u001b[0m\n\u001b[1;32m      5\u001b[0m     \u001b[0mmutated_mated_population\u001b[0m \u001b[0;34m=\u001b[0m \u001b[0mmutate_mated_population\u001b[0m\u001b[0;34m(\u001b[0m\u001b[0mmated_population\u001b[0m\u001b[0;34m)\u001b[0m\u001b[0;34m\u001b[0m\u001b[0;34m\u001b[0m\u001b[0m\n",
      "\u001b[0;32m<ipython-input-323-5167a9cc186f>\u001b[0m in \u001b[0;36msort_y_wrt_x\u001b[0;34m(cx_list, cy_list)\u001b[0m\n\u001b[1;32m      1\u001b[0m \u001b[0;32mdef\u001b[0m \u001b[0msort_y_wrt_x\u001b[0m\u001b[0;34m(\u001b[0m\u001b[0mcx_list\u001b[0m\u001b[0;34m,\u001b[0m\u001b[0mcy_list\u001b[0m\u001b[0;34m)\u001b[0m\u001b[0;34m:\u001b[0m\u001b[0;34m\u001b[0m\u001b[0;34m\u001b[0m\u001b[0m\n\u001b[0;32m----> 2\u001b[0;31m     \u001b[0mczipped_list\u001b[0m \u001b[0;34m=\u001b[0m \u001b[0mzip\u001b[0m\u001b[0;34m(\u001b[0m\u001b[0mcx_list\u001b[0m\u001b[0;34m,\u001b[0m\u001b[0mcy_list\u001b[0m\u001b[0;34m.\u001b[0m\u001b[0mall\u001b[0m\u001b[0;34m)\u001b[0m\u001b[0;34m\u001b[0m\u001b[0;34m\u001b[0m\u001b[0m\n\u001b[0m\u001b[1;32m      3\u001b[0m     \u001b[0mcsorted_pairs\u001b[0m \u001b[0;34m=\u001b[0m \u001b[0msorted\u001b[0m\u001b[0;34m(\u001b[0m\u001b[0mczipped_list\u001b[0m\u001b[0;34m)\u001b[0m\u001b[0;34m\u001b[0m\u001b[0;34m\u001b[0m\u001b[0m\n\u001b[1;32m      4\u001b[0m     \u001b[0mctuples\u001b[0m \u001b[0;34m=\u001b[0m \u001b[0mzip\u001b[0m\u001b[0;34m(\u001b[0m\u001b[0;34m*\u001b[0m\u001b[0mcsorted_pairs\u001b[0m\u001b[0;34m)\u001b[0m\u001b[0;34m\u001b[0m\u001b[0;34m\u001b[0m\u001b[0m\n\u001b[1;32m      5\u001b[0m     \u001b[0mcx_list\u001b[0m\u001b[0;34m,\u001b[0m \u001b[0mcy_list\u001b[0m \u001b[0;34m=\u001b[0m \u001b[0;34m[\u001b[0m \u001b[0mlist\u001b[0m\u001b[0;34m(\u001b[0m\u001b[0mtuple\u001b[0m\u001b[0;34m)\u001b[0m \u001b[0;32mfor\u001b[0m \u001b[0mtuple\u001b[0m \u001b[0;32min\u001b[0m  \u001b[0mctuples\u001b[0m\u001b[0;34m]\u001b[0m\u001b[0;34m\u001b[0m\u001b[0;34m\u001b[0m\u001b[0m\n",
      "\u001b[0;31mTypeError\u001b[0m: zip argument #2 must support iteration"
     ]
    }
   ],
   "source": [
    "run_algo()"
   ]
  },
  {
   "cell_type": "code",
   "execution_count": null,
   "id": "correct-seafood",
   "metadata": {},
   "outputs": [],
   "source": []
  }
 ],
 "metadata": {
  "kernelspec": {
   "display_name": "Python 3",
   "language": "python",
   "name": "python3"
  },
  "language_info": {
   "codemirror_mode": {
    "name": "ipython",
    "version": 3
   },
   "file_extension": ".py",
   "mimetype": "text/x-python",
   "name": "python",
   "nbconvert_exporter": "python",
   "pygments_lexer": "ipython3",
   "version": "3.6.9"
  }
 },
 "nbformat": 4,
 "nbformat_minor": 5
}
